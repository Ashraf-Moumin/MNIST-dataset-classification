{
  "nbformat": 4,
  "nbformat_minor": 0,
  "metadata": {
    "colab": {
      "provenance": []
    },
    "kernelspec": {
      "name": "python3",
      "display_name": "Python 3"
    },
    "language_info": {
      "name": "python"
    }
  },
  "cells": [
    {
      "cell_type": "code",
      "execution_count": 18,
      "metadata": {
        "colab": {
          "base_uri": "https://localhost:8080/"
        },
        "id": "e2iOEJg7DcQd",
        "outputId": "324dc0e8-5ce8-475f-8b04-029951ca48d0"
      },
      "outputs": [
        {
          "output_type": "stream",
          "name": "stdout",
          "text": [
            "tf.Tensor(248.9395619489717, shape=(), dtype=float64)\n",
            "tf.Tensor(52.56347524304228, shape=(), dtype=float64)\n",
            "tf.Tensor(27.078251684437042, shape=(), dtype=float64)\n",
            "tf.Tensor(21.836935917935154, shape=(), dtype=float64)\n",
            "tf.Tensor(19.96631876355519, shape=(), dtype=float64)\n",
            "tf.Tensor(19.106939123537988, shape=(), dtype=float64)\n",
            "tf.Tensor(18.648441301524972, shape=(), dtype=float64)\n",
            "tf.Tensor(18.37610570715446, shape=(), dtype=float64)\n",
            "tf.Tensor(18.199523099015483, shape=(), dtype=float64)\n",
            "tf.Tensor(18.07589324071918, shape=(), dtype=float64)\n"
          ]
        }
      ],
      "source": [
        "from keras.datasets.mnist import load_data\n",
        "import matplotlib.pyplot as plt\n",
        "import numpy as np\n",
        "from numpy import asarray\n",
        "import tensorflow as tf\n",
        "from scipy.signal import convolve2d\n",
        "from tensorflow.python.ops.numpy_ops import np_config\n",
        "np_config.enable_numpy_behavior()\n",
        "\n",
        "data = load_data()\n",
        "\n",
        "train_data = data[0][0]\n",
        "train_answer = data[0][1]\n",
        "\n",
        "#kernels\n",
        "kernel_horizontal = np.array([[1,1,1],[0,0,0],[-1,-1,-1]])\n",
        "kernel_vertical = np.array([[1,0,-1],[1,0,-1],[1,0,-1]])\n",
        "kernel_oblique1 = np.array([[1,0,-1],[0,1,0],[-1,0,1]])\n",
        "kernel_oblique2 = np.array([[-1,0,1],[0,1,0],[1,0,-1]])\n",
        "\n",
        "#onehotencoding for training the number 5\n",
        "answer = [1 if i==5 else 0 for i in train_answer]\n",
        "\n",
        "# This function is taylored for evenly shaped images\n",
        "def maxpool(image):\n",
        "    #we check if the image's size is a multiple of three\n",
        "    if ((image.shape[0]%3 + image.shape[1]%3) == 0):\n",
        "        new_image = np.zeros((int(image.shape[0]/3),int(image.shape[1]/3)))\n",
        "        for i in range(int(image.shape[0]/3)):\n",
        "            for j in range(int(image.shape[1]/3)):\n",
        "                new_image[i,j]= max(image[3*i, 3*j:3*j+3].max(),image[3*i+1,3*j:3*j+3].max(), image[3*i+2,3*j:3*j+3].max())\n",
        "        return new_image\n",
        "    return image.shape[0]%3 + image.shape[1]%3\n",
        "\n",
        "#activation function\n",
        "def sigmoid(k,x):\n",
        "    return 1/(1+tf.math.exp(-tf.linalg.matmul(k,x)))\n",
        "\n",
        "\n",
        "coefs = np.random.randn(5, 1, 9*9)\n",
        "\n",
        "coefs = tf.Variable(coefs)\n",
        "\n",
        "loss_counter = []\n",
        "\n",
        "for i in range(10):\n",
        "    for j in range(100):\n",
        "        with tf.GradientTape(persistent= True) as tape:\n",
        "            tape.watch(coefs)\n",
        "\n",
        "            #convolving in all directions\n",
        "            convolved_vert = convolve2d(train_data[j], kernel_vertical, mode= 'same')\n",
        "            convolved_hor = convolve2d(train_data[j], kernel_horizontal, mode= 'same')\n",
        "            convolved_ob1 = convolve2d(train_data[j], kernel_oblique1, mode= 'same')\n",
        "            convolved_ob2 = convolve2d(train_data[j], kernel_oblique2, mode= 'same')\n",
        "\n",
        "            #maxpool applied on 27x27 convolved image\n",
        "            pooled_vert = maxpool(convolved_vert[1:,1:])\n",
        "            pooled_hor = maxpool(convolved_hor[1:, 1:])\n",
        "            pooled_ob1 = maxpool(convolved_ob1[1:,1:])\n",
        "            pooled_ob2 = maxpool(convolved_ob2[1:,1:])\n",
        "\n",
        "            #flattening\n",
        "            flat_vert = pooled_vert.reshape(1,9*9,1)\n",
        "            flat_hor = pooled_hor.reshape(1,9*9,1)\n",
        "            flat_ob1 = pooled_ob1.reshape(1,9*9,1)\n",
        "            flat_ob2 = pooled_ob2.reshape(1,9*9,1)\n",
        "\n",
        "            #outputs in the hidden layer\n",
        "            hidden1 = sigmoid(coefs[0].reshape(1,1,9*9), flat_vert)\n",
        "            hidden2 = sigmoid(coefs[1].reshape(1, 1, 9 * 9), flat_hor)\n",
        "            hidden3 = sigmoid(coefs[2].reshape(1, 1, 9 * 9), flat_ob1)\n",
        "            hidden4 = sigmoid(coefs[3].reshape(1, 1, 9 * 9), flat_ob2)\n",
        "\n",
        "            hidden_vector = tf.constant([int(hidden1),int(hidden2), int(hidden3), int(hidden4)], shape= (4,1))\n",
        "\n",
        "            #output\n",
        "            out = 1/(1+tf.math.exp(-coefs[4][0][:4]@hidden_vector))\n",
        "\n",
        "            #loss\n",
        "            loss = -answer[j]*tf.math.log(out)-(1-answer[j])*tf.math.log(1-out)\n",
        "\n",
        "        #backpropagation and parameter optimization\n",
        "        dloss_dcoefs = tape.gradient(loss, coefs)\n",
        "        #dloss_dcoefs_hidden = tape.gradient(loss, coefs_hidden)\n",
        "\n",
        "        coefs.assign_sub(0.02*dloss_dcoefs)\n",
        "        #coefs_hidden.assign_sub(0.02*dloss_dcoefs_hidden)\n",
        "        loss_counter.append(tf.reduce_sum(loss))\n",
        "\n",
        "    print(sum(loss_counter))\n",
        "    loss_counter = []\n",
        "\n",
        "\n",
        "\n",
        "\n"
      ]
    },
    {
      "cell_type": "code",
      "source": [],
      "metadata": {
        "colab": {
          "base_uri": "https://localhost:8080/"
        },
        "id": "S1PSz8NiEzqi",
        "outputId": "baf5a03f-0a06-4414-ac6f-d52ee3ee581e"
      },
      "execution_count": 5,
      "outputs": [
        {
          "output_type": "execute_result",
          "data": {
            "text/plain": [
              "TensorShape([5, 1, 81])"
            ]
          },
          "metadata": {},
          "execution_count": 5
        }
      ]
    }
  ]
}